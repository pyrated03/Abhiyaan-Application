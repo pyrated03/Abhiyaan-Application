{
  "nbformat": 4,
  "nbformat_minor": 0,
  "metadata": {
    "colab": {
      "name": "Video_Pedestrian_Tracker.ipynb",
      "provenance": [],
      "collapsed_sections": []
    },
    "kernelspec": {
      "name": "python3",
      "display_name": "Python 3"
    },
    "language_info": {
      "name": "python"
    }
  },
  "cells": [
    {
      "cell_type": "code",
      "metadata": {
        "id": "2WeW9AL0F-0F",
        "colab": {
          "base_uri": "https://localhost:8080/"
        },
        "outputId": "8a3e05cc-717f-4f94-8013-1c898af00355"
      },
      "source": [
        "# 2. Mount Drive\n",
        "from google.colab import drive\n",
        "drive.mount('/content/drive')"
      ],
      "execution_count": null,
      "outputs": [
        {
          "output_type": "stream",
          "text": [
            "Mounted at /content/drive\n"
          ],
          "name": "stdout"
        }
      ]
    },
    {
      "cell_type": "code",
      "metadata": {
        "id": "FYp4Ng_5lZiQ"
      },
      "source": [
        "import numpy as np\n",
        "import cv2\n",
        "from google.colab.patches import cv2_imshow\n",
        "from matplotlib import pyplot as plt\n",
        "import imutils"
      ],
      "execution_count": null,
      "outputs": []
    },
    {
      "cell_type": "code",
      "metadata": {
        "id": "KJu4hhWWPXcH"
      },
      "source": [
        "#OpenCV comes with a class called HOGDescriptor. This is the HoG feature extractor.\n",
        "\n",
        "# Initializing the HOG person detector.\n",
        "hog = cv2.HOGDescriptor()\n",
        "#OpenCV provides its own implementation of SVM. We using that predefined SVM Model to detect Pedastrians\n",
        "hog.setSVMDetector(cv2.HOGDescriptor_getDefaultPeopleDetector())\n",
        "   \n",
        "cap = cv2.VideoCapture(\"drive/My Drive/Abhiyaan_Application/Video Box/pedestrians.mp4\")\n",
        "   \n",
        "while cap.isOpened():\n",
        "    # Reading the video stream\n",
        "    ret, image = cap.read()\n",
        "    if ret:\n",
        "        image = imutils.resize(image, \n",
        "                               width=min(400, image.shape[1]))\n",
        "   \n",
        "        # Detecting all the regions in the Image that has a pedestrians inside it\n",
        "        (regions, _) = hog.detectMultiScale(image, winStride=(4, 4), padding=(4, 4), scale=1.05)\n",
        "   \n",
        "        # Drawing boxes around the regions in the Image\n",
        "        for (x, y, w, h) in regions:\n",
        "            cv2.rectangle(image, (x, y),\n",
        "                          (x + w, y + h), \n",
        "                          (0, 0, 255), 2)\n",
        "   \n",
        "        # Showing the output Image\n",
        "        cv2_imshow(image)\n",
        "        if cv2.waitKey(25) & 0xFF == ord('q'):\n",
        "            break\n",
        "    else:\n",
        "        break\n",
        "  \n",
        "cap.release()\n",
        "cv2.destroyAllWindows()"
      ],
      "execution_count": null,
      "outputs": []
    },
    {
      "cell_type": "code",
      "metadata": {
        "id": "NJw_KfpSRXl4"
      },
      "source": [
        ""
      ],
      "execution_count": null,
      "outputs": []
    }
  ]
}